{
  "nbformat": 4,
  "nbformat_minor": 0,
  "metadata": {
    "colab": {
      "provenance": []
    },
    "kernelspec": {
      "name": "python3",
      "display_name": "Python 3"
    },
    "language_info": {
      "name": "python"
    }
  },
  "cells": [
    {
      "cell_type": "code",
      "execution_count": null,
      "metadata": {
        "colab": {
          "base_uri": "https://localhost:8080/"
        },
        "id": "EpxP430BazcX",
        "outputId": "dd111041-40a4-4621-b1a2-714a362cc503"
      },
      "outputs": [
        {
          "output_type": "stream",
          "name": "stdout",
          "text": [
            "2.6.0+cu124\n"
          ]
        }
      ],
      "source": [
        "import torch\n",
        "import pandas as pd\n",
        "import numpy as np\n",
        "import matplotlib.pyplot as plt\n",
        "print(torch.__version__)"
      ]
    },
    {
      "cell_type": "markdown",
      "source": [
        "# Backpropagation"
      ],
      "metadata": {
        "id": "h5pvDL3XtAgd"
      }
    },
    {
      "cell_type": "code",
      "source": [
        "import torch\n",
        "\n",
        "x = torch.tensor(1.0)\n",
        "y = torch.tensor(2.0)\n",
        "\n",
        "w = torch.tensor(1.0, requires_grad=True)\n",
        "\n",
        "#forward pass and compute the loss\n",
        "y_hat = w*x\n",
        "loss = (y_hat - y)**2\n",
        "\n",
        "print(loss)\n",
        "\n",
        "loss.backward()\n",
        "print(w.grad)"
      ],
      "metadata": {
        "colab": {
          "base_uri": "https://localhost:8080/"
        },
        "id": "sh2rQU8OtHJx",
        "outputId": "e925fd6a-bb41-47f7-b31b-c39adfbc884a"
      },
      "execution_count": null,
      "outputs": [
        {
          "output_type": "stream",
          "name": "stdout",
          "text": [
            "tensor(1., grad_fn=<PowBackward0>)\n",
            "tensor(-2.)\n"
          ]
        }
      ]
    },
    {
      "cell_type": "markdown",
      "source": [
        "# Gradient Descent"
      ],
      "metadata": {
        "id": "M6MwXFbGuWff"
      }
    },
    {
      "cell_type": "code",
      "source": [
        "import numpy as np\n",
        "\n",
        "X = np.array([1, 2, 3, 4], dtype=np.float32)\n",
        "Y = np.array([2, 4, 6, 8], dtype=np.float32)\n",
        "w = 0.0\n",
        "\n",
        "def forward(x): return w * x\n",
        "def loss(y, y_pred): return ((y_pred - y)**2).mean()\n",
        "def gradient(x, y, y_pred):  # dJ/dw\n",
        "    N = x.shape[0]\n",
        "    return (2.0/N) * np.sum(x * (y_pred - y))\n",
        "\n",
        "print(f'Prediction before training: f(5) = {forward(5):.3f}')\n",
        "\n",
        "lr = 0.01\n",
        "n_iters = 50\n",
        "for epoch in range(n_iters):\n",
        "    y_pred = forward(X)         # <-- X, not x\n",
        "    l = loss(Y, y_pred)\n",
        "    dw = gradient(X, Y, y_pred)\n",
        "    w -= lr * dw\n",
        "    if (epoch+1) % 10 == 0:\n",
        "        print(f'epoch {epoch+1}: w = {w:.3f}, loss = {l:.8f}')\n",
        "\n",
        "print(f'Prediction after training: f(5) = {forward(5):.3f}')\n"
      ],
      "metadata": {
        "colab": {
          "base_uri": "https://localhost:8080/"
        },
        "id": "tJZtzwdK3lSS",
        "outputId": "51f8cfba-03af-4f7d-8a8d-f1dd03a97810"
      },
      "execution_count": null,
      "outputs": [
        {
          "output_type": "stream",
          "name": "stdout",
          "text": [
            "Prediction before training: f(5) = 0.000\n",
            "epoch 10: w = 1.606, loss = 1.60939169\n",
            "epoch 20: w = 1.922, loss = 0.06237914\n",
            "epoch 30: w = 1.985, loss = 0.00241778\n",
            "epoch 40: w = 1.997, loss = 0.00009371\n",
            "epoch 50: w = 1.999, loss = 0.00000363\n",
            "Prediction after training: f(5) = 9.997\n"
          ]
        }
      ]
    },
    {
      "cell_type": "code",
      "source": [
        "import torch\n",
        "\n",
        "X = torch.tensor([1, 2, 3, 4], dtype=torch.float32)\n",
        "Y = torch.tensor([2, 4, 6, 8], dtype=torch.float32)\n",
        "\n",
        "w = torch.tensor(0.0, dtype=torch.float32, requires_grad=True)\n",
        "\n",
        "def forward(x): return w * x\n",
        "def loss(y, y_pred): return ((y_pred - y)**2).mean()\n",
        "\n",
        "print(f'Prediction before training: f(5) = {forward(torch.tensor(5.0)).item():.3f}')\n",
        "\n",
        "lr = 0.01\n",
        "n_iters = 100\n",
        "for epoch in range(n_iters):\n",
        "    y_pred = forward(X)\n",
        "    l = loss(Y, y_pred)\n",
        "    l.backward()                     # computes w.grad\n",
        "    with torch.no_grad():\n",
        "        w -= lr * w.grad             # use w.grad, not dw\n",
        "    w.grad.zero_()\n",
        "    if (epoch+1) % 10 == 0:\n",
        "        print(f'epoch {epoch+1}: w = {w.item():.3f}, loss = {l.item():.8f}')\n",
        "\n",
        "print(f'Prediction after training: f(5) = {forward(torch.tensor(5.0)).item():.3f}')\n"
      ],
      "metadata": {
        "colab": {
          "base_uri": "https://localhost:8080/"
        },
        "id": "QvWYMZ1JxS5n",
        "outputId": "158c2185-ab68-4bb6-8775-24198d7c5bbc"
      },
      "execution_count": null,
      "outputs": [
        {
          "output_type": "stream",
          "name": "stdout",
          "text": [
            "Prediction before training: f(5) = 0.000\n",
            "epoch 10: w = 1.606, loss = 1.60939169\n",
            "epoch 20: w = 1.922, loss = 0.06237914\n",
            "epoch 30: w = 1.985, loss = 0.00241778\n",
            "epoch 40: w = 1.997, loss = 0.00009371\n",
            "epoch 50: w = 1.999, loss = 0.00000363\n",
            "epoch 60: w = 2.000, loss = 0.00000014\n",
            "epoch 70: w = 2.000, loss = 0.00000001\n",
            "epoch 80: w = 2.000, loss = 0.00000000\n",
            "epoch 90: w = 2.000, loss = 0.00000000\n",
            "epoch 100: w = 2.000, loss = 0.00000000\n",
            "Prediction after training: f(5) = 10.000\n"
          ]
        }
      ]
    },
    {
      "cell_type": "code",
      "source": [
        "import torch\n",
        "import torch.nn as nn\n",
        "\n",
        "X = torch.tensor([[1.0],[2.0],[3.0],[4.0]])\n",
        "Y = torch.tensor([[2.0],[4.0],[6.0],[8.0]])\n",
        "X_test = torch.tensor([[5.0]])\n",
        "\n",
        "model = nn.Linear(1, 1)\n",
        "criterion = nn.MSELoss()\n",
        "optimizer = torch.optim.SGD(model.parameters(), lr=0.01)\n",
        "\n",
        "print(f'Prediction before training: f(5) = {model(X_test).item():.3f}')\n",
        "\n",
        "n_iters = 200\n",
        "for epoch in range(n_iters):\n",
        "    y_pred = model(X)\n",
        "    l = criterion(y_pred, Y)\n",
        "    optimizer.zero_grad()\n",
        "    l.backward()\n",
        "    optimizer.step()\n",
        "    if (epoch+1) % 20 == 0:\n",
        "        w_param = list(model.parameters())[0].item()\n",
        "        b_param = list(model.parameters())[1].item()\n",
        "        print(f'epoch {epoch+1}: w = {w_param:.3f}, b = {b_param:.3f}, loss = {l.item():.8f}')\n",
        "\n",
        "print(f'Prediction after training: f(5) = {model(X_test).item():.3f}')\n"
      ],
      "metadata": {
        "colab": {
          "base_uri": "https://localhost:8080/"
        },
        "id": "wZyRuqaqyyZ_",
        "outputId": "57305f73-a315-45bc-8a42-220b1b1cc6a1"
      },
      "execution_count": null,
      "outputs": [
        {
          "output_type": "stream",
          "name": "stdout",
          "text": [
            "Prediction before training: f(5) = -3.197\n",
            "epoch 20: w = 1.574, b = 1.056, loss = 0.24322364\n",
            "epoch 40: w = 1.654, b = 1.014, loss = 0.17281429\n",
            "epoch 60: w = 1.675, b = 0.955, loss = 0.15325370\n",
            "epoch 80: w = 1.694, b = 0.899, loss = 0.13593249\n",
            "epoch 100: w = 1.712, b = 0.847, loss = 0.12056898\n",
            "epoch 120: w = 1.729, b = 0.798, loss = 0.10694209\n",
            "epoch 140: w = 1.744, b = 0.751, loss = 0.09485514\n",
            "epoch 160: w = 1.759, b = 0.708, loss = 0.08413444\n",
            "epoch 180: w = 1.773, b = 0.666, loss = 0.07462531\n",
            "epoch 200: w = 1.787, b = 0.628, loss = 0.06619096\n",
            "Prediction after training: f(5) = 9.560\n"
          ]
        }
      ]
    },
    {
      "cell_type": "markdown",
      "source": [
        "# Linear Regression"
      ],
      "metadata": {
        "id": "WcsggHt-2g8d"
      }
    },
    {
      "cell_type": "code",
      "source": [
        "class LinearRegression(nn.Module):\n",
        "\n",
        "  def __init__(self, input_dim, output_dim):\n",
        "    super(LinearRegression, self).__init__()\n",
        "    #define layers\n",
        "    self.lin = nn.Linear(input_dim, output_dim)\n",
        "\n",
        "  def forward(self, x):\n",
        "    return self.lin(x)"
      ],
      "metadata": {
        "id": "zxkj9uKv0eKK"
      },
      "execution_count": null,
      "outputs": []
    },
    {
      "cell_type": "code",
      "source": [
        "import torch\n",
        "import torch.nn as nn\n",
        "import numpy as np\n",
        "from sklearn import datasets\n",
        "import matplotlib.pyplot as plt\n",
        "\n",
        "# 0) prepare data\n",
        "X_numpy, y_numpy = datasets.make_regression(\n",
        "    n_samples=100, n_features=1, noise=20, random_state=1\n",
        ")\n",
        "\n",
        "X = torch.from_numpy(X_numpy.astype(np.float32))\n",
        "y = torch.from_numpy(y_numpy.astype(np.float32))\n",
        "y = y.view(-1, 1)  # reshape to (100, 1) for nn.Linear\n",
        "\n",
        "n_samples, n_features = X.shape\n",
        "\n",
        "# 1) model\n",
        "model = nn.Linear(n_features, 1)\n",
        "\n",
        "# 2) loss and optimizer\n",
        "learning_rate = 0.01\n",
        "criterion = nn.MSELoss()\n",
        "optimizer = torch.optim.SGD(model.parameters(), lr=learning_rate)\n",
        "\n",
        "# 3) training loop\n",
        "num_epochs = 100\n",
        "for epoch in range(num_epochs):\n",
        "    # forward pass\n",
        "    y_pred = model(X)\n",
        "    loss = criterion(y_pred, y)\n",
        "\n",
        "    # backward pass\n",
        "    optimizer.zero_grad()\n",
        "    loss.backward()\n",
        "    optimizer.step()\n",
        "\n",
        "    if (epoch+1) % 10 == 0:\n",
        "        print(f'epoch: {epoch+1}, loss = {loss.item():.4f}')\n",
        "\n",
        "# plot\n",
        "predicted = model(X).detach().numpy()\n",
        "plt.scatter(X_numpy, y_numpy, label='data')\n",
        "plt.plot(X_numpy, predicted, color='red', label='fitted line')\n",
        "plt.legend()\n",
        "plt.show()\n"
      ],
      "metadata": {
        "colab": {
          "base_uri": "https://localhost:8080/",
          "height": 611
        },
        "id": "VCYrOfQ-3OnH",
        "outputId": "64bf443e-f022-4565-e407-c2557174346c"
      },
      "execution_count": null,
      "outputs": [
        {
          "output_type": "stream",
          "name": "stdout",
          "text": [
            "epoch: 10, loss = 4451.7905\n",
            "epoch: 20, loss = 3321.4250\n",
            "epoch: 30, loss = 2503.1023\n",
            "epoch: 40, loss = 1910.0726\n",
            "epoch: 50, loss = 1479.9017\n",
            "epoch: 60, loss = 1167.5914\n",
            "epoch: 70, loss = 940.6657\n",
            "epoch: 80, loss = 775.6576\n",
            "epoch: 90, loss = 655.5903\n",
            "epoch: 100, loss = 568.1692\n"
          ]
        },
        {
          "output_type": "display_data",
          "data": {
            "text/plain": [
              "<Figure size 640x480 with 1 Axes>"
            ],
            "image/png": "[encoded data removed]"
          },
          "metadata": {}
        }
      ]
    },
    {
      "cell_type": "markdown",
      "source": [
        "# Logistic Regression"
      ],
      "metadata": {
        "id": "_FLKekpX4qND"
      }
    },
    {
      "cell_type": "code",
      "source": [],
      "metadata": {
        "id": "PzvcqjW54WD_"
      },
      "execution_count": null,
      "outputs": []
    }
  ]
}